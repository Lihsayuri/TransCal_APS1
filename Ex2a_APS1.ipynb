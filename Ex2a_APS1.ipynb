{
 "cells": [
  {
   "cell_type": "code",
   "execution_count": 1,
   "metadata": {},
   "outputs": [
    {
     "name": "stdout",
     "output_type": "stream",
     "text": [
      "A taxa de transferência de calor é 44.585 W\n"
     ]
    }
   ],
   "source": [
    "import numpy as np\n",
    "from math import *\n",
    "import matplotlib.pyplot as plt\n",
    "\n",
    "\n",
    "Ts = 100 # temperatura da superfície em [ºC]\n",
    "Tinf = 25 # temperatura do ambiente com fluido em [ºC]\n",
    "rAleta = 12e-3 # raio da aleta em [m]\n",
    "d = 3*(rAleta*2)\n",
    "\n",
    "L = 168e-3 # comprimento da aleta em [m]\n",
    "h = 15 # coeficiente de transferência de calor por convecção natural em [W/(m^2*K)] \n",
    "k = 154 # coeficiente de condutividade térmica do alumínio 2014 em [W/(m*K)]\n",
    "P = 2*pi*(d/2) # perimétro da base da aleta\n",
    "Atr = pi*((d/2)**2) # Área de transferência de calor\n",
    "\n",
    "m = sqrt((h*P)/(k*Atr))\n",
    "M = (Ts- Tinf)*sqrt(h*P*k*Atr)\n",
    "\n",
    "num = (sinh(m*L) + (h/(m*k))*cosh(m*L))\n",
    "den = (cosh(m*L) + (h/(m*k))*sinh(m*L))\n",
    "qa_triplicado = M*(num/den)\n",
    "\n",
    "\n",
    "# print(f'Área total {areaTotal}')\n",
    "print(f'A taxa de transferência de calor é {round(qa_triplicado, 3)} W')\n"
   ]
  }
 ],
 "metadata": {
  "interpreter": {
   "hash": "8c237026920645532ad4fac2ecf5a7340375b5fd89ce97dd00b3c03bb12c8171"
  },
  "kernelspec": {
   "display_name": "Python 3.7.6 ('base')",
   "language": "python",
   "name": "python3"
  },
  "language_info": {
   "codemirror_mode": {
    "name": "ipython",
    "version": 3
   },
   "file_extension": ".py",
   "mimetype": "text/x-python",
   "name": "python",
   "nbconvert_exporter": "python",
   "pygments_lexer": "ipython3",
   "version": "3.7.6"
  },
  "orig_nbformat": 4
 },
 "nbformat": 4,
 "nbformat_minor": 2
}
