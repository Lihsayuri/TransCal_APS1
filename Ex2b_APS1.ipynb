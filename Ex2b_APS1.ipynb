{
 "cells": [
  {
   "cell_type": "code",
   "execution_count": 5,
   "metadata": {},
   "outputs": [
    {
     "name": "stdout",
     "output_type": "stream",
     "text": [
      "A taxa de transferência de calor (caso A) para o cobre 13.894 W\n",
      "A taxa de transferência de calor (caso A) para o alumínio 13.381 W\n"
     ]
    }
   ],
   "source": [
    "import numpy as np\n",
    "from math import *\n",
    "import matplotlib.pyplot as plt\n",
    "\n",
    "\n",
    "Ts = 100 # temperatura da superfície em [ºC]\n",
    "Tinf = 25 # temperatura do ambiente com fluido em [ºC]\n",
    "rAleta = 12e-3 # raio da aleta em [m]\n",
    "L = 168e-3 # comprimento da aleta em [m]\n",
    "h = 15 # coeficiente de transferência de calor por convecção natural em [W/(m^2*K)] \n",
    "P = 2*pi*rAleta # perimétro da base da aleta\n",
    "Atr = pi*(rAleta**2) # Área de transferência de calor\n",
    "\n",
    "kCu = 400 #W/(mK)\n",
    "kAl = 240 #W/(mK) \n",
    "\n",
    "m_cobre = sqrt((h*P)/(kCu*Atr))\n",
    "m_al = sqrt((h*P)/(kAl*Atr))\n",
    "\n",
    "M_cobre = (Ts- Tinf)*sqrt(h*P*kCu*Atr)\n",
    "M_al = (Ts- Tinf)*sqrt(h*P*kAl*Atr)\n",
    "\n",
    "\n",
    "num1 = (sinh(m_cobre*L) + (h/(m_cobre*kCu))*cosh(m_cobre*L))\n",
    "den1 = (cosh(m_cobre*L) + (h/(m_cobre*kCu))*sinh(m_cobre*L))\n",
    "qa_cobre= M_cobre*(num1/den1)\n",
    "\n",
    "\n",
    "num2 = (sinh(m_al*L) + (h/(m_al*kAl))*cosh(m_al*L))\n",
    "den2 = (cosh(m_al*L) + (h/(m_al*kAl))*sinh(m_al*L))\n",
    "qa_al= M_al*(num2/den2)\n",
    "\n",
    "# print(f'Área total {areaTotal}')\n",
    "print(f'A taxa de transferência de calor (caso A) para o cobre {round(qa_cobre, 3)} W')\n",
    "print(f'A taxa de transferência de calor (caso A) para o alumínio {round(qa_al, 3)} W')\n",
    "\n"
   ]
  },
  {
   "cell_type": "code",
   "execution_count": 6,
   "metadata": {},
   "outputs": [
    {
     "name": "stdout",
     "output_type": "stream",
     "text": [
      "A taxa de transferência de calor para o cobre (caso aleta infinita) 33.929 W\n",
      "A taxa de transferência de calor para o alumínio (caso aleta infinita)  26.281 W\n"
     ]
    }
   ],
   "source": [
    "print(f'A taxa de transferência de calor para o cobre (caso aleta infinita) {round(M_cobre, 3)} W')\n",
    "print(f'A taxa de transferência de calor para o alumínio (caso aleta infinita)  {round(M_al, 3)} W')"
   ]
  }
 ],
 "metadata": {
  "interpreter": {
   "hash": "6e497987009c9c3dc31aeb712dd1f92f042cf7bc2ba670c8f6516e9184f43d06"
  },
  "kernelspec": {
   "display_name": "Python 3.9.2 ('robotica')",
   "language": "python",
   "name": "python3"
  },
  "language_info": {
   "codemirror_mode": {
    "name": "ipython",
    "version": 3
   },
   "file_extension": ".py",
   "mimetype": "text/x-python",
   "name": "python",
   "nbconvert_exporter": "python",
   "pygments_lexer": "ipython3",
   "version": "3.9.2"
  },
  "orig_nbformat": 4
 },
 "nbformat": 4,
 "nbformat_minor": 2
}
