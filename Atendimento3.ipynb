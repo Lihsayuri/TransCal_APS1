{
 "cells": [
  {
   "cell_type": "markdown",
   "metadata": {},
   "source": [
    "Considere uma aleta de alumínio (k=200W/mK), 300mm de comprimento, seção transversal quadrada de lado 30mm, temperatura da base 350K imersa em um ambiente a 300K com coeficiente convectivo de 15W/m²K. Nesse caso, a efetividade da aleta é:\n",
    "\n"
   ]
  },
  {
   "cell_type": "code",
   "execution_count": 6,
   "metadata": {},
   "outputs": [
    {
     "name": "stdout",
     "output_type": "stream",
     "text": [
      "28.46049894151541\n",
      "3.1622776601683795\n",
      "A efetividade é 31.612622241374865\n"
     ]
    }
   ],
   "source": [
    "from math import *\n",
    "\n",
    "\n",
    "Tb = 350 # K\n",
    "Tinf = 300 # K\n",
    "lado = 30e-3\n",
    "L = 300e-3 # m\n",
    "h = 15 # W/(m^2*K) 5 15\n",
    "k = 200 # W/(m*K) 190 154.08\n",
    "P = 4*lado\n",
    "Ab = lado**2\n",
    "\n",
    "m = sqrt((h*P)/(k*Ab))\n",
    "\n",
    "M = (Tb- Tinf)*sqrt(h*P*k*Ab)\n",
    "qa = M*((sinh(m*L) + (h/(m*k))*cosh(m*L))/(cosh(m*L) + (h/(m*k))*sinh(m*L)))\n",
    "\n",
    "efetividade = qa/(h*Ab*(Tb- Tinf))\n",
    "\n",
    "print(M)\n",
    "print(m)\n",
    "print(\"A efetividade é {0}\".format(efetividade))"
   ]
  },
  {
   "cell_type": "markdown",
   "metadata": {},
   "source": [
    "Determine o aumento do calor dissipado por unidade de tempo que poderia ser obtido de uma placa plana usando-se por unidade de área 6400 aletas de alumínio ( k = 178 Kcal/(h m ℃) ) , tipo pino, de 5 𝑚𝑚 de diâmetro e 30 mm de altura. Sabe-se que na base da placa a temperatura é 300 º𝐶 , enquanto que o ambiente está a 20 º𝐶 com coeficiente de película de 120 Kcal/(hm²℃) . Nesse caso o aumento é de:\n",
    "\n"
   ]
  },
  {
   "cell_type": "code",
   "execution_count": 16,
   "metadata": {},
   "outputs": [
    {
     "name": "stdout",
     "output_type": "stream",
     "text": [
      "256.0188921043594\n"
     ]
    }
   ],
   "source": [
    "r = 5e-3/2 #m\n",
    "altura = 30e-3 #m\n",
    "P2 = 2*pi*r\n",
    "Abase = pi*r**2\n",
    "Tb2 = 300 # ºC\n",
    "Tinf2 = 20 # ºC\n",
    "h2 = 120 #Kcal/(hm^2C)\n",
    "k2 = 178 #Kcal/(hmC)\n",
    "\n",
    "m2 = sqrt((h2*P2)/(k2*Abase))\n",
    "\n",
    "M2 = (Tb2- Tinf2)*sqrt(h2*P2*k2*Abase)\n",
    "qa2 = M2*((sinh(m2*altura) + (h2/(m2*k2))*cosh(m2*altura))/(cosh(m2*altura) + (h2/(m2*k2))*sinh(m2*altura)))\n",
    "\n",
    "ac = (1 - (Abase*6400))\n",
    "sem_aleta = (h2*1*(Tb2- Tinf2))\n",
    "na_aleta = ac*h2*(Tb2-Tinf2) + qa2*6400\n",
    "\n",
    "aumento = na_aleta - sem_aleta\n",
    "\n",
    "porcentagem = aumento*100/33600\n",
    "\n",
    "print(porcentagem)"
   ]
  }
 ],
 "metadata": {
  "interpreter": {
   "hash": "8c237026920645532ad4fac2ecf5a7340375b5fd89ce97dd00b3c03bb12c8171"
  },
  "kernelspec": {
   "display_name": "Python 3.7.6 ('base')",
   "language": "python",
   "name": "python3"
  },
  "language_info": {
   "codemirror_mode": {
    "name": "ipython",
    "version": 3
   },
   "file_extension": ".py",
   "mimetype": "text/x-python",
   "name": "python",
   "nbconvert_exporter": "python",
   "pygments_lexer": "ipython3",
   "version": "3.7.6"
  },
  "orig_nbformat": 4
 },
 "nbformat": 4,
 "nbformat_minor": 2
}
